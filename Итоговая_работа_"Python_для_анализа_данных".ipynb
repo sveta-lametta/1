{
  "nbformat": 4,
  "nbformat_minor": 0,
  "metadata": {
    "colab": {
      "name": "Итоговая работа \"Python для анализа данных\".ipynb",
      "provenance": [],
      "authorship_tag": "ABX9TyMTB5xGIPjChBPyRjjibOgY",
      "include_colab_link": true
    },
    "kernelspec": {
      "name": "python3",
      "display_name": "Python 3"
    },
    "language_info": {
      "name": "python"
    }
  },
  "cells": [
    {
      "cell_type": "markdown",
      "metadata": {
        "id": "view-in-github",
        "colab_type": "text"
      },
      "source": [
        "<a href=\"https://colab.research.google.com/github/sveta-lametta/1/blob/main/%D0%98%D1%82%D0%BE%D0%B3%D0%BE%D0%B2%D0%B0%D1%8F_%D1%80%D0%B0%D0%B1%D0%BE%D1%82%D0%B0_%22Python_%D0%B4%D0%BB%D1%8F_%D0%B0%D0%BD%D0%B0%D0%BB%D0%B8%D0%B7%D0%B0_%D0%B4%D0%B0%D0%BD%D0%BD%D1%8B%D1%85%22.ipynb\" target=\"_parent\"><img src=\"https://colab.research.google.com/assets/colab-badge.svg\" alt=\"Open In Colab\"/></a>"
      ]
    },
    {
      "cell_type": "code",
      "metadata": {
        "id": "i6-9niEymeSE"
      },
      "source": [
        "import pandas as pd\n",
        "import numpy as np"
      ],
      "execution_count": null,
      "outputs": []
    },
    {
      "cell_type": "markdown",
      "metadata": {
        "id": "nb_KOqE6r1XZ"
      },
      "source": [
        "**Задание 1**"
      ]
    },
    {
      "cell_type": "code",
      "metadata": {
        "colab": {
          "base_uri": "https://localhost:8080/",
          "height": 222
        },
        "id": "Zx525CwmmoMl",
        "outputId": "cbf616bd-d7dc-4348-fc75-f1b0aa4facfc"
      },
      "source": [
        "from google.colab import drive\n",
        "drive.mount('/content/drive')\n",
        "\n",
        "!cp \"/content/drive/My Drive/Colab Notebooks/HR.csv\" \"HR.csv\"\n",
        "\n",
        "df = pd.read_csv('HR.csv')\n",
        "\n",
        "df.head()"
      ],
      "execution_count": null,
      "outputs": [
        {
          "output_type": "stream",
          "name": "stdout",
          "text": [
            "Drive already mounted at /content/drive; to attempt to forcibly remount, call drive.mount(\"/content/drive\", force_remount=True).\n"
          ]
        },
        {
          "output_type": "execute_result",
          "data": {
            "text/html": [
              "<div>\n",
              "<style scoped>\n",
              "    .dataframe tbody tr th:only-of-type {\n",
              "        vertical-align: middle;\n",
              "    }\n",
              "\n",
              "    .dataframe tbody tr th {\n",
              "        vertical-align: top;\n",
              "    }\n",
              "\n",
              "    .dataframe thead th {\n",
              "        text-align: right;\n",
              "    }\n",
              "</style>\n",
              "<table border=\"1\" class=\"dataframe\">\n",
              "  <thead>\n",
              "    <tr style=\"text-align: right;\">\n",
              "      <th></th>\n",
              "      <th>satisfaction_level</th>\n",
              "      <th>last_evaluation</th>\n",
              "      <th>number_project</th>\n",
              "      <th>average_montly_hours</th>\n",
              "      <th>time_spend_company</th>\n",
              "      <th>Work_accident</th>\n",
              "      <th>left</th>\n",
              "      <th>promotion_last_5years</th>\n",
              "      <th>department</th>\n",
              "      <th>salary</th>\n",
              "    </tr>\n",
              "  </thead>\n",
              "  <tbody>\n",
              "    <tr>\n",
              "      <th>0</th>\n",
              "      <td>0.38</td>\n",
              "      <td>0.53</td>\n",
              "      <td>2</td>\n",
              "      <td>157</td>\n",
              "      <td>3</td>\n",
              "      <td>0</td>\n",
              "      <td>1</td>\n",
              "      <td>0</td>\n",
              "      <td>sales</td>\n",
              "      <td>low</td>\n",
              "    </tr>\n",
              "    <tr>\n",
              "      <th>1</th>\n",
              "      <td>0.80</td>\n",
              "      <td>0.86</td>\n",
              "      <td>5</td>\n",
              "      <td>262</td>\n",
              "      <td>6</td>\n",
              "      <td>0</td>\n",
              "      <td>1</td>\n",
              "      <td>0</td>\n",
              "      <td>sales</td>\n",
              "      <td>medium</td>\n",
              "    </tr>\n",
              "    <tr>\n",
              "      <th>2</th>\n",
              "      <td>0.11</td>\n",
              "      <td>0.88</td>\n",
              "      <td>7</td>\n",
              "      <td>272</td>\n",
              "      <td>4</td>\n",
              "      <td>0</td>\n",
              "      <td>1</td>\n",
              "      <td>0</td>\n",
              "      <td>sales</td>\n",
              "      <td>medium</td>\n",
              "    </tr>\n",
              "    <tr>\n",
              "      <th>3</th>\n",
              "      <td>0.72</td>\n",
              "      <td>0.87</td>\n",
              "      <td>5</td>\n",
              "      <td>223</td>\n",
              "      <td>5</td>\n",
              "      <td>0</td>\n",
              "      <td>1</td>\n",
              "      <td>0</td>\n",
              "      <td>sales</td>\n",
              "      <td>low</td>\n",
              "    </tr>\n",
              "    <tr>\n",
              "      <th>4</th>\n",
              "      <td>0.37</td>\n",
              "      <td>0.52</td>\n",
              "      <td>2</td>\n",
              "      <td>159</td>\n",
              "      <td>3</td>\n",
              "      <td>0</td>\n",
              "      <td>1</td>\n",
              "      <td>0</td>\n",
              "      <td>sales</td>\n",
              "      <td>low</td>\n",
              "    </tr>\n",
              "  </tbody>\n",
              "</table>\n",
              "</div>"
            ],
            "text/plain": [
              "   satisfaction_level  last_evaluation  ...  department  salary\n",
              "0                0.38             0.53  ...       sales     low\n",
              "1                0.80             0.86  ...       sales  medium\n",
              "2                0.11             0.88  ...       sales  medium\n",
              "3                0.72             0.87  ...       sales     low\n",
              "4                0.37             0.52  ...       sales     low\n",
              "\n",
              "[5 rows x 10 columns]"
            ]
          },
          "metadata": {},
          "execution_count": 3
        }
      ]
    },
    {
      "cell_type": "code",
      "metadata": {
        "colab": {
          "base_uri": "https://localhost:8080/"
        },
        "id": "KyDFtwcCz5Cp",
        "outputId": "1bd7e0d0-edad-43c2-ce91-a2eba2b94a89"
      },
      "source": [
        "#Посмотрим, есть ли пропуски в данных\n",
        "(df.isna().mean() * 100).round(2) "
      ],
      "execution_count": null,
      "outputs": [
        {
          "output_type": "execute_result",
          "data": {
            "text/plain": [
              "satisfaction_level       0.0\n",
              "last_evaluation          0.0\n",
              "number_project           0.0\n",
              "average_montly_hours     0.0\n",
              "time_spend_company       0.0\n",
              "Work_accident            0.0\n",
              "left                     0.0\n",
              "promotion_last_5years    0.0\n",
              "department               0.0\n",
              "salary                   0.0\n",
              "dtype: float64"
            ]
          },
          "metadata": {},
          "execution_count": 54
        }
      ]
    },
    {
      "cell_type": "markdown",
      "metadata": {
        "id": "raIuVihLr-9Q"
      },
      "source": [
        "**Задание 2**"
      ]
    },
    {
      "cell_type": "markdown",
      "metadata": {
        "id": "B7k2tA-msF_8"
      },
      "source": [
        "*Уровень удовлетворенности работой - базовые статистики*"
      ]
    },
    {
      "cell_type": "code",
      "metadata": {
        "colab": {
          "base_uri": "https://localhost:8080/"
        },
        "id": "wNPoaJ2znSJb",
        "outputId": "c9183db4-858b-4578-c515-495fbcd3d8da"
      },
      "source": [
        "#Находим максимальный и минимальный уровень удовлетворенности работой, а также средний.\n",
        "\n",
        "print(np.max(df['satisfaction_level']))\n",
        "print(np.min(df['satisfaction_level']))\n",
        "print(np.mean(df['satisfaction_level']))"
      ],
      "execution_count": null,
      "outputs": [
        {
          "output_type": "stream",
          "name": "stdout",
          "text": [
            "1.0\n",
            "0.09\n",
            "0.6128335222348166\n"
          ]
        }
      ]
    },
    {
      "cell_type": "code",
      "metadata": {
        "colab": {
          "base_uri": "https://localhost:8080/"
        },
        "id": "jvKTpSjNoG6H",
        "outputId": "76803a12-6570-4825-88d6-d70ec52f8199"
      },
      "source": [
        "#Находим модальное значение уровня удовлетворенности работой\n",
        "\n",
        "print('Значение моды: ', df['satisfaction_level'].round().mode()[0])"
      ],
      "execution_count": null,
      "outputs": [
        {
          "output_type": "stream",
          "name": "stdout",
          "text": [
            "Значение моды:  1.0\n"
          ]
        }
      ]
    },
    {
      "cell_type": "code",
      "metadata": {
        "colab": {
          "base_uri": "https://localhost:8080/"
        },
        "id": "N-SFfyf4of0Y",
        "outputId": "2a8e72dc-6050-4c64-a821-7efe192afa7f"
      },
      "source": [
        "#Находим медиану\n",
        "\n",
        "print(np.median(df['satisfaction_level']))"
      ],
      "execution_count": null,
      "outputs": [
        {
          "output_type": "stream",
          "name": "stdout",
          "text": [
            "0.64\n"
          ]
        }
      ]
    },
    {
      "cell_type": "code",
      "metadata": {
        "colab": {
          "base_uri": "https://localhost:8080/"
        },
        "id": "_7JxgvT4ovRq",
        "outputId": "2c8d7b6c-66a1-45eb-9525-bef64bfb8e0d"
      },
      "source": [
        "#Находим СКО\n",
        "print(np.std(df['satisfaction_level'], ddof=1))"
      ],
      "execution_count": null,
      "outputs": [
        {
          "output_type": "stream",
          "name": "stdout",
          "text": [
            "0.2486306510611418\n"
          ]
        }
      ]
    },
    {
      "cell_type": "markdown",
      "metadata": {
        "id": "AY6PWZB_sRwl"
      },
      "source": [
        "*Время с момента последней оценки - базовые статистики*"
      ]
    },
    {
      "cell_type": "code",
      "metadata": {
        "colab": {
          "base_uri": "https://localhost:8080/"
        },
        "id": "7f1-EVzkpFsv",
        "outputId": "8aded156-ab29-4695-ff53-95eb27226449"
      },
      "source": [
        "#Находим максимальное и минимальное время с момента последней оценки, а также средний показатель.\n",
        "\n",
        "\n",
        "print(np.max(df.last_evaluation))\n",
        "print(np.min(df.last_evaluation))\n",
        "print(np.mean(df.last_evaluation))"
      ],
      "execution_count": null,
      "outputs": [
        {
          "output_type": "stream",
          "name": "stdout",
          "text": [
            "1.0\n",
            "0.36\n",
            "0.7161017401159978\n"
          ]
        }
      ]
    },
    {
      "cell_type": "code",
      "metadata": {
        "colab": {
          "base_uri": "https://localhost:8080/"
        },
        "id": "DuajKgAFpmot",
        "outputId": "5b90aa71-baac-45b2-f2f4-98a34ca84026"
      },
      "source": [
        "#Находим модальное значение времени с момента последней оценки\n",
        "\n",
        "print('Значение моды: ', df.last_evaluation.round().mode()[0])"
      ],
      "execution_count": null,
      "outputs": [
        {
          "output_type": "stream",
          "name": "stdout",
          "text": [
            "Значение моды:  1.0\n"
          ]
        }
      ]
    },
    {
      "cell_type": "code",
      "metadata": {
        "colab": {
          "base_uri": "https://localhost:8080/"
        },
        "id": "71EEXdzip-NM",
        "outputId": "e040750d-5bcd-4a54-8ab3-9f6318949e78"
      },
      "source": [
        "#Находим медиану\n",
        "\n",
        "print(np.median(df.last_evaluation))"
      ],
      "execution_count": null,
      "outputs": [
        {
          "output_type": "stream",
          "name": "stdout",
          "text": [
            "0.72\n"
          ]
        }
      ]
    },
    {
      "cell_type": "code",
      "metadata": {
        "colab": {
          "base_uri": "https://localhost:8080/"
        },
        "id": "w4sOvhaYqHx1",
        "outputId": "55a1d779-f4e9-4346-c811-8fb965965b81"
      },
      "source": [
        "#Находим СКО\n",
        "print(np.std(df.last_evaluation, ddof=1))"
      ],
      "execution_count": null,
      "outputs": [
        {
          "output_type": "execute_result",
          "data": {
            "text/plain": [
              "0.17116911062327592"
            ]
          },
          "metadata": {},
          "execution_count": 17
        }
      ]
    },
    {
      "cell_type": "markdown",
      "metadata": {
        "id": "0tofA29BsaIk"
      },
      "source": [
        "Количество проектов - базовые статистики"
      ]
    },
    {
      "cell_type": "code",
      "metadata": {
        "colab": {
          "base_uri": "https://localhost:8080/"
        },
        "id": "NeyFid6crzzf",
        "outputId": "a908864a-c6d6-4038-9412-5961c188bcdd"
      },
      "source": [
        "#Находим максимальное и минимальное количество, а также среднее.\n",
        "\n",
        "print(np.max(df.number_project))\n",
        "print(np.min(df.number_project))\n",
        "print(np.mean(df.number_project))"
      ],
      "execution_count": null,
      "outputs": [
        {
          "output_type": "stream",
          "name": "stdout",
          "text": [
            "7\n",
            "2\n",
            "3.80305353690246\n"
          ]
        }
      ]
    },
    {
      "cell_type": "code",
      "metadata": {
        "colab": {
          "base_uri": "https://localhost:8080/"
        },
        "id": "JDPmB4rUstAZ",
        "outputId": "3418a589-fa2d-4382-e669-f239c2852d63"
      },
      "source": [
        "#Находим модальное значение \n",
        "\n",
        "print('Значение моды: ', df.number_project.round().mode()[0])"
      ],
      "execution_count": null,
      "outputs": [
        {
          "output_type": "stream",
          "name": "stdout",
          "text": [
            "Значение моды:  4\n"
          ]
        }
      ]
    },
    {
      "cell_type": "code",
      "metadata": {
        "colab": {
          "base_uri": "https://localhost:8080/"
        },
        "id": "udINx5w5s1oz",
        "outputId": "8baf9d8c-c118-4121-eae4-9fc413b097af"
      },
      "source": [
        "#Находим медиану\n",
        "\n",
        "print(np.median(df.number_project))"
      ],
      "execution_count": null,
      "outputs": [
        {
          "output_type": "stream",
          "name": "stdout",
          "text": [
            "4.0\n"
          ]
        }
      ]
    },
    {
      "cell_type": "code",
      "metadata": {
        "colab": {
          "base_uri": "https://localhost:8080/"
        },
        "id": "PkTNb3gHs54g",
        "outputId": "350dc44c-e0a5-4cc9-9c74-e52ed9f2eb1d"
      },
      "source": [
        "#Находим СКО\n",
        "print(np.std(df.number_project, ddof=1))"
      ],
      "execution_count": null,
      "outputs": [
        {
          "output_type": "stream",
          "name": "stdout",
          "text": [
            "1.2325923553183857\n"
          ]
        }
      ]
    },
    {
      "cell_type": "markdown",
      "metadata": {
        "id": "u8mQW23ftAKd"
      },
      "source": [
        "*Среднее количество часов на рабочем месте в месяц - базовые статистики*"
      ]
    },
    {
      "cell_type": "code",
      "metadata": {
        "colab": {
          "base_uri": "https://localhost:8080/"
        },
        "id": "iFjHwzWCtLGF",
        "outputId": "29ea414e-6b0b-40f9-a67a-c2719b44c5a5"
      },
      "source": [
        "#Находим максимальное и минимальное количество, а также среднее.\n",
        "\n",
        "print(np.max(df.average_montly_hours))\n",
        "print(np.min(df.average_montly_hours))\n",
        "print(np.mean(df.average_montly_hours))"
      ],
      "execution_count": null,
      "outputs": [
        {
          "output_type": "stream",
          "name": "stdout",
          "text": [
            "310\n",
            "96\n",
            "201.0503366891126\n"
          ]
        }
      ]
    },
    {
      "cell_type": "code",
      "metadata": {
        "colab": {
          "base_uri": "https://localhost:8080/"
        },
        "id": "06780-TJtTvA",
        "outputId": "0d014a13-0de9-4263-96ea-9cf9b781dbe5"
      },
      "source": [
        "#Находим модальное значение \n",
        "\n",
        "print('Значение моды: ', df.average_montly_hours.round().mode()[0])"
      ],
      "execution_count": null,
      "outputs": [
        {
          "output_type": "stream",
          "name": "stdout",
          "text": [
            "Значение моды:  135\n"
          ]
        }
      ]
    },
    {
      "cell_type": "code",
      "metadata": {
        "colab": {
          "base_uri": "https://localhost:8080/"
        },
        "id": "jEqd5w-utZ-4",
        "outputId": "f27a4037-03c2-45a7-dc2b-6639dee95a25"
      },
      "source": [
        "#Находим медиану\n",
        "\n",
        "print(np.median(df.average_montly_hours))"
      ],
      "execution_count": null,
      "outputs": [
        {
          "output_type": "stream",
          "name": "stdout",
          "text": [
            "200.0\n"
          ]
        }
      ]
    },
    {
      "cell_type": "code",
      "metadata": {
        "colab": {
          "base_uri": "https://localhost:8080/"
        },
        "id": "Mc7AgSAmtfJ2",
        "outputId": "cb6f29f0-d2b9-4399-a3a7-f43344278ec1"
      },
      "source": [
        "#Находим СКО\n",
        "print(np.std(df.average_montly_hours, ddof=1))"
      ],
      "execution_count": null,
      "outputs": [
        {
          "output_type": "stream",
          "name": "stdout",
          "text": [
            "49.943099371284305\n"
          ]
        }
      ]
    },
    {
      "cell_type": "markdown",
      "metadata": {
        "id": "DwB79PWjtpLq"
      },
      "source": [
        "*Стаж работы комании в годах - базовые статистики*"
      ]
    },
    {
      "cell_type": "code",
      "metadata": {
        "colab": {
          "base_uri": "https://localhost:8080/"
        },
        "id": "xukRW4Ugtmwe",
        "outputId": "a10d0b3b-a104-4760-b54d-0164f7d6ba5e"
      },
      "source": [
        "#Находим максимальное и минимальный стаж, а также средний.\n",
        "\n",
        "print(np.max(df.time_spend_company))\n",
        "print(np.min(df.time_spend_company))\n",
        "print(np.mean(df.time_spend_company))"
      ],
      "execution_count": null,
      "outputs": [
        {
          "output_type": "stream",
          "name": "stdout",
          "text": [
            "10\n",
            "2\n",
            "3.498233215547703\n"
          ]
        }
      ]
    },
    {
      "cell_type": "code",
      "metadata": {
        "colab": {
          "base_uri": "https://localhost:8080/"
        },
        "id": "SPZ5c15Jt8fL",
        "outputId": "8d27854c-4d14-448b-bf47-fbba19de65d8"
      },
      "source": [
        "#Находим модальное значение \n",
        "\n",
        "print('Значение моды: ', df.time_spend_company.round().mode()[0])"
      ],
      "execution_count": null,
      "outputs": [
        {
          "output_type": "stream",
          "name": "stdout",
          "text": [
            "Значение моды:  3\n"
          ]
        }
      ]
    },
    {
      "cell_type": "code",
      "metadata": {
        "colab": {
          "base_uri": "https://localhost:8080/"
        },
        "id": "EcnQPm52uAko",
        "outputId": "f2664da4-b9dc-4acb-c81b-11f9a2902b2a"
      },
      "source": [
        "#Находим медиану\n",
        "\n",
        "print(np.median(df.time_spend_company))"
      ],
      "execution_count": null,
      "outputs": [
        {
          "output_type": "stream",
          "name": "stdout",
          "text": [
            "3.0\n"
          ]
        }
      ]
    },
    {
      "cell_type": "code",
      "metadata": {
        "colab": {
          "base_uri": "https://localhost:8080/"
        },
        "id": "PxRtzep6uFal",
        "outputId": "6ac1a616-d34b-4d56-acb5-07bfffd57486"
      },
      "source": [
        "#Находим СКО\n",
        "print(np.std(df.time_spend_company, ddof=1))"
      ],
      "execution_count": null,
      "outputs": [
        {
          "output_type": "stream",
          "name": "stdout",
          "text": [
            "1.4601362305354546\n"
          ]
        }
      ]
    },
    {
      "cell_type": "markdown",
      "metadata": {
        "id": "LsPZJOFRul_7"
      },
      "source": [
        "Несчастные случаи на работе - базовые статистики"
      ]
    },
    {
      "cell_type": "code",
      "metadata": {
        "colab": {
          "base_uri": "https://localhost:8080/"
        },
        "id": "MOoMzxWruFlH",
        "outputId": "3738dc4a-4452-45fd-e6c7-cbf8ea58101f"
      },
      "source": [
        "df.Work_accident.value_counts()"
      ],
      "execution_count": null,
      "outputs": [
        {
          "output_type": "execute_result",
          "data": {
            "text/plain": [
              "0    12830\n",
              "1     2169\n",
              "Name: Work_accident, dtype: int64"
            ]
          },
          "metadata": {},
          "execution_count": 33
        }
      ]
    },
    {
      "cell_type": "markdown",
      "metadata": {
        "id": "9dZXCVn0vJ4W"
      },
      "source": [
        "*Статистика по увольнениям*"
      ]
    },
    {
      "cell_type": "code",
      "metadata": {
        "colab": {
          "base_uri": "https://localhost:8080/"
        },
        "id": "ewEs3TVvuFof",
        "outputId": "5b865141-b9b3-41bd-bc0c-de460705406c"
      },
      "source": [
        "df.left.value_counts()"
      ],
      "execution_count": null,
      "outputs": [
        {
          "output_type": "execute_result",
          "data": {
            "text/plain": [
              "0    11428\n",
              "1     3571\n",
              "Name: left, dtype: int64"
            ]
          },
          "metadata": {},
          "execution_count": 34
        }
      ]
    },
    {
      "cell_type": "markdown",
      "metadata": {
        "id": "DJNGQhSyvbs-"
      },
      "source": [
        "*Статистика по повышению*"
      ]
    },
    {
      "cell_type": "code",
      "metadata": {
        "colab": {
          "base_uri": "https://localhost:8080/"
        },
        "id": "i3mUkcwgvfo_",
        "outputId": "f68d7716-20f1-4a9d-c5e1-717a8059051a"
      },
      "source": [
        "df.promotion_last_5years.value_counts()"
      ],
      "execution_count": null,
      "outputs": [
        {
          "output_type": "execute_result",
          "data": {
            "text/plain": [
              "0    14680\n",
              "1      319\n",
              "Name: promotion_last_5years, dtype: int64"
            ]
          },
          "metadata": {},
          "execution_count": 35
        }
      ]
    },
    {
      "cell_type": "markdown",
      "metadata": {
        "id": "J_TOcXxPvpyH"
      },
      "source": [
        "*Статистика по отделам*"
      ]
    },
    {
      "cell_type": "code",
      "metadata": {
        "colab": {
          "base_uri": "https://localhost:8080/"
        },
        "id": "rSlVxhdJvuMt",
        "outputId": "827f12c9-a3ce-48f0-9879-546e4a8c72d4"
      },
      "source": [
        "df.department.value_counts()"
      ],
      "execution_count": null,
      "outputs": [
        {
          "output_type": "execute_result",
          "data": {
            "text/plain": [
              "sales          4140\n",
              "technical      2720\n",
              "support        2229\n",
              "IT             1227\n",
              "product_mng     902\n",
              "marketing       858\n",
              "RandD           787\n",
              "accounting      767\n",
              "hr              739\n",
              "management      630\n",
              "Name: department, dtype: int64"
            ]
          },
          "metadata": {},
          "execution_count": 36
        }
      ]
    },
    {
      "cell_type": "markdown",
      "metadata": {
        "id": "FyfqJQykwA-B"
      },
      "source": [
        "*Статистика по относительному уровню зарплаты*"
      ]
    },
    {
      "cell_type": "code",
      "metadata": {
        "colab": {
          "base_uri": "https://localhost:8080/"
        },
        "id": "pvxNBBi-wGO_",
        "outputId": "6616f6c6-ce6b-4d07-9e4c-41198ef5eecb"
      },
      "source": [
        "df.salary.value_counts()"
      ],
      "execution_count": null,
      "outputs": [
        {
          "output_type": "execute_result",
          "data": {
            "text/plain": [
              "low       7316\n",
              "medium    6446\n",
              "high      1237\n",
              "Name: salary, dtype: int64"
            ]
          },
          "metadata": {},
          "execution_count": 38
        }
      ]
    },
    {
      "cell_type": "markdown",
      "metadata": {
        "id": "2xCppERSwN5A"
      },
      "source": [
        "**Задание 3**"
      ]
    },
    {
      "cell_type": "code",
      "metadata": {
        "colab": {
          "base_uri": "https://localhost:8080/",
          "height": 204
        },
        "id": "C7adkictwQ8b",
        "outputId": "b70956eb-3ea1-4ab6-ad76-34b4db8b933d"
      },
      "source": [
        "df_correlation = df[['satisfaction_level', 'last_evaluation', 'number_project', 'average_montly_hours', 'time_spend_company']]\n",
        "df_correlation.corr()"
      ],
      "execution_count": null,
      "outputs": [
        {
          "output_type": "execute_result",
          "data": {
            "text/html": [
              "<div>\n",
              "<style scoped>\n",
              "    .dataframe tbody tr th:only-of-type {\n",
              "        vertical-align: middle;\n",
              "    }\n",
              "\n",
              "    .dataframe tbody tr th {\n",
              "        vertical-align: top;\n",
              "    }\n",
              "\n",
              "    .dataframe thead th {\n",
              "        text-align: right;\n",
              "    }\n",
              "</style>\n",
              "<table border=\"1\" class=\"dataframe\">\n",
              "  <thead>\n",
              "    <tr style=\"text-align: right;\">\n",
              "      <th></th>\n",
              "      <th>satisfaction_level</th>\n",
              "      <th>last_evaluation</th>\n",
              "      <th>number_project</th>\n",
              "      <th>average_montly_hours</th>\n",
              "      <th>time_spend_company</th>\n",
              "    </tr>\n",
              "  </thead>\n",
              "  <tbody>\n",
              "    <tr>\n",
              "      <th>satisfaction_level</th>\n",
              "      <td>1.000000</td>\n",
              "      <td>0.105021</td>\n",
              "      <td>-0.142970</td>\n",
              "      <td>-0.020048</td>\n",
              "      <td>-0.100866</td>\n",
              "    </tr>\n",
              "    <tr>\n",
              "      <th>last_evaluation</th>\n",
              "      <td>0.105021</td>\n",
              "      <td>1.000000</td>\n",
              "      <td>0.349333</td>\n",
              "      <td>0.339742</td>\n",
              "      <td>0.131591</td>\n",
              "    </tr>\n",
              "    <tr>\n",
              "      <th>number_project</th>\n",
              "      <td>-0.142970</td>\n",
              "      <td>0.349333</td>\n",
              "      <td>1.000000</td>\n",
              "      <td>0.417211</td>\n",
              "      <td>0.196786</td>\n",
              "    </tr>\n",
              "    <tr>\n",
              "      <th>average_montly_hours</th>\n",
              "      <td>-0.020048</td>\n",
              "      <td>0.339742</td>\n",
              "      <td>0.417211</td>\n",
              "      <td>1.000000</td>\n",
              "      <td>0.127755</td>\n",
              "    </tr>\n",
              "    <tr>\n",
              "      <th>time_spend_company</th>\n",
              "      <td>-0.100866</td>\n",
              "      <td>0.131591</td>\n",
              "      <td>0.196786</td>\n",
              "      <td>0.127755</td>\n",
              "      <td>1.000000</td>\n",
              "    </tr>\n",
              "  </tbody>\n",
              "</table>\n",
              "</div>"
            ],
            "text/plain": [
              "                      satisfaction_level  ...  time_spend_company\n",
              "satisfaction_level              1.000000  ...           -0.100866\n",
              "last_evaluation                 0.105021  ...            0.131591\n",
              "number_project                 -0.142970  ...            0.196786\n",
              "average_montly_hours           -0.020048  ...            0.127755\n",
              "time_spend_company             -0.100866  ...            1.000000\n",
              "\n",
              "[5 rows x 5 columns]"
            ]
          },
          "metadata": {},
          "execution_count": 51
        }
      ]
    },
    {
      "cell_type": "code",
      "metadata": {
        "id": "LdvkiMKqwvPg"
      },
      "source": [
        "import seaborn as sns"
      ],
      "execution_count": null,
      "outputs": []
    },
    {
      "cell_type": "code",
      "metadata": {
        "colab": {
          "base_uri": "https://localhost:8080/",
          "height": 391
        },
        "id": "wKcBr2ERwx9V",
        "outputId": "1c506601-e7f1-41a8-f768-5cccb0855c65"
      },
      "source": [
        "matrix = np.triu(df_correlation.corr())\n",
        "sns.heatmap(df_correlation.corr(), annot = True, vmin=-1, vmax=1, center= 0, cmap= 'coolwarm', mask = matrix)"
      ],
      "execution_count": null,
      "outputs": [
        {
          "output_type": "execute_result",
          "data": {
            "text/plain": [
              "<matplotlib.axes._subplots.AxesSubplot at 0x7fd4654b6f10>"
            ]
          },
          "metadata": {},
          "execution_count": 53
        },
        {
          "output_type": "display_data",
          "data": {
            "image/png": "[encoded data removed]",
            "text/plain": [
              "<Figure size 432x288 with 2 Axes>"
            ]
          },
          "metadata": {
            "needs_background": "light"
          }
        }
      ]
    },
    {
      "cell_type": "markdown",
      "metadata": {
        "id": "rsE2TENJyliJ"
      },
      "source": [
        "Самые скореллированные переменные - количество рабочих часов в месяц и количество проектов.\n",
        "\n",
        "Самые минимально скореллированные переменные - количество проектов и уровень удовлетворенности"
      ]
    },
    {
      "cell_type": "markdown",
      "metadata": {
        "id": "7zboZWoh0RR_"
      },
      "source": [
        "**4 Задание**"
      ]
    },
    {
      "cell_type": "code",
      "metadata": {
        "colab": {
          "base_uri": "https://localhost:8080/"
        },
        "id": "UMgqeHqa0TfW",
        "outputId": "66faa5eb-60c2-4e43-cd69-43d8febb149b"
      },
      "source": [
        "#Рассчитаем количество сотрудников по отделам:\n",
        "\n",
        "df.department.value_counts()"
      ],
      "execution_count": null,
      "outputs": [
        {
          "output_type": "execute_result",
          "data": {
            "text/plain": [
              "sales          4140\n",
              "technical      2720\n",
              "support        2229\n",
              "IT             1227\n",
              "product_mng     902\n",
              "marketing       858\n",
              "RandD           787\n",
              "accounting      767\n",
              "hr              739\n",
              "management      630\n",
              "Name: department, dtype: int64"
            ]
          },
          "metadata": {},
          "execution_count": 55
        }
      ]
    },
    {
      "cell_type": "markdown",
      "metadata": {
        "id": "QwhNmI6i0eHG"
      },
      "source": [
        "**5 Задание**"
      ]
    },
    {
      "cell_type": "code",
      "metadata": {
        "colab": {
          "base_uri": "https://localhost:8080/"
        },
        "id": "R-GlcoXt1V3n",
        "outputId": "4a9888a6-929a-47ee-9c60-aea06c9cbddb"
      },
      "source": [
        "#Посмотрим распределение зарплаты сотрудников\n",
        "\n",
        "df.salary.value_counts()"
      ],
      "execution_count": null,
      "outputs": [
        {
          "output_type": "execute_result",
          "data": {
            "text/plain": [
              "low       7316\n",
              "medium    6446\n",
              "high      1237\n",
              "Name: salary, dtype: int64"
            ]
          },
          "metadata": {},
          "execution_count": 59
        }
      ]
    },
    {
      "cell_type": "markdown",
      "metadata": {
        "id": "MCx2WWP81OCm"
      },
      "source": [
        "**6 Задание**"
      ]
    },
    {
      "cell_type": "code",
      "metadata": {
        "colab": {
          "base_uri": "https://localhost:8080/"
        },
        "id": "7EK1AdAJ0crg",
        "outputId": "65c92f2a-0d1a-44da-a779-d03155c088fb"
      },
      "source": [
        "#Посмотрим распределение зарплаты сотрудников по отделам\n",
        "\n",
        "df.groupby('department')['salary'].value_counts()"
      ],
      "execution_count": null,
      "outputs": [
        {
          "output_type": "execute_result",
          "data": {
            "text/plain": [
              "department   salary\n",
              "IT           low        609\n",
              "             medium     535\n",
              "             high        83\n",
              "RandD        medium     372\n",
              "             low        364\n",
              "             high        51\n",
              "accounting   low        358\n",
              "             medium     335\n",
              "             high        74\n",
              "hr           medium     359\n",
              "             low        335\n",
              "             high        45\n",
              "management   high       225\n",
              "             medium     225\n",
              "             low        180\n",
              "marketing    low        402\n",
              "             medium     376\n",
              "             high        80\n",
              "product_mng  low        451\n",
              "             medium     383\n",
              "             high        68\n",
              "sales        low       2099\n",
              "             medium    1772\n",
              "             high       269\n",
              "support      low       1146\n",
              "             medium     942\n",
              "             high       141\n",
              "technical    low       1372\n",
              "             medium    1147\n",
              "             high       201\n",
              "Name: salary, dtype: int64"
            ]
          },
          "metadata": {},
          "execution_count": 58
        }
      ]
    },
    {
      "cell_type": "markdown",
      "metadata": {
        "id": "FloI5Us_2FRl"
      },
      "source": [
        "**7 Задание**\n",
        "\n",
        "H0 - Сотрудники с высоким доходом проводят на работе меньше времени, чем сотрудники с низким доходом.\n",
        "\n",
        "H1 - Сотрудники с высоким доходом проводят на работе больше времени, чем сотрудники с низким доходом.\n",
        "\n",
        "За альфа примем 0.05"
      ]
    },
    {
      "cell_type": "code",
      "metadata": {
        "id": "yQTWzkrb3Qqv"
      },
      "source": [
        "from scipy import stats as st\n",
        "alpha = 0.05"
      ],
      "execution_count": null,
      "outputs": []
    },
    {
      "cell_type": "code",
      "metadata": {
        "id": "MH5WGuC62wbM"
      },
      "source": [
        "data_high_salary = df[ df.salary == 'high']\n",
        "data_low_salary = df[ df.salary == 'low']"
      ],
      "execution_count": null,
      "outputs": []
    },
    {
      "cell_type": "code",
      "metadata": {
        "colab": {
          "base_uri": "https://localhost:8080/"
        },
        "id": "CDeLGqca267z",
        "outputId": "32afce4c-4f19-461b-88fc-138592df69a3"
      },
      "source": [
        "result = st.ttest_ind(data_high_salary['average_montly_hours'], data_low_salary['average_montly_hours'], equal_var=False)\n",
        "print(result)\n",
        "\n",
        "if (result.pvalue < alpha):\n",
        "    print('Отвергаем нулевую гипотезу, сотрудники с высоким доходам проводят на работе больше времени')\n",
        "else:\n",
        "    print('Сотрудники с высоким доходом проводят на работе меньше времени')"
      ],
      "execution_count": null,
      "outputs": [
        {
          "output_type": "stream",
          "name": "stdout",
          "text": [
            "Ttest_indResult(statistic=-0.7624331665385475, pvalue=0.4459045542257889)\n",
            "Сотрудники с высоким доходом проводят на работе меньше времени\n"
          ]
        }
      ]
    },
    {
      "cell_type": "markdown",
      "metadata": {
        "id": "tylsiJLN32ts"
      },
      "source": [
        "**8 Задание**"
      ]
    },
    {
      "cell_type": "code",
      "metadata": {
        "id": "NKZW1DaS3qdk"
      },
      "source": [
        "df_left = df[ df.left == 1]\n",
        "df_stayed = df[ df.left == 0]"
      ],
      "execution_count": null,
      "outputs": []
    },
    {
      "cell_type": "code",
      "metadata": {
        "colab": {
          "base_uri": "https://localhost:8080/"
        },
        "id": "ln7N1Rz84X9G",
        "outputId": "e847b08f-da6d-46d6-8ce2-011a31f20e5c"
      },
      "source": [
        "#Рассчитаем долю сотрудников с повышением в течение последних пяти лет для уволившихся сотрудников\n",
        "\n",
        "df_left_promotion_rate = len(df_left) / len(df) * 100\n",
        "df_left_promotion_rate"
      ],
      "execution_count": null,
      "outputs": [
        {
          "output_type": "execute_result",
          "data": {
            "text/plain": [
              "23.80825388359224"
            ]
          },
          "metadata": {},
          "execution_count": 71
        }
      ]
    },
    {
      "cell_type": "code",
      "metadata": {
        "colab": {
          "base_uri": "https://localhost:8080/"
        },
        "id": "KL0JCTGe5t8T",
        "outputId": "b62e1a02-4b90-4c5f-c418-1629330336d9"
      },
      "source": [
        "#Рассчитаем среднюю степень удовлетворенности для уволившихся сотрудников\n",
        "print(np.mean(df_left.satisfaction_level))"
      ],
      "execution_count": null,
      "outputs": [
        {
          "output_type": "stream",
          "name": "stdout",
          "text": [
            "0.44009801176140917\n"
          ]
        }
      ]
    },
    {
      "cell_type": "code",
      "metadata": {
        "colab": {
          "base_uri": "https://localhost:8080/"
        },
        "id": "R0Psmv4h6F6J",
        "outputId": "373614f8-33b9-4cf6-bc34-f6a364b734ed"
      },
      "source": [
        "#Рассчитаем среднее количество проектов для уволившихся сотрудников\n",
        "print(np.mean(df_left.number_project))"
      ],
      "execution_count": null,
      "outputs": [
        {
          "output_type": "stream",
          "name": "stdout",
          "text": [
            "3.8555026603192384\n"
          ]
        }
      ]
    },
    {
      "cell_type": "code",
      "metadata": {
        "colab": {
          "base_uri": "https://localhost:8080/"
        },
        "id": "-SJGxrF-6NSe",
        "outputId": "066ee353-07ca-43ff-e4d5-38356e1b3efe"
      },
      "source": [
        "#Рассчитаем долю сотрудников с повышением в течение последних пяти лет для оставшихся сотрудников\n",
        "\n",
        "df_stayed_promotion_rate = len(df_stayed) / len(df) * 100\n",
        "df_stayed_promotion_rate"
      ],
      "execution_count": null,
      "outputs": [
        {
          "output_type": "execute_result",
          "data": {
            "text/plain": [
              "76.19174611640777"
            ]
          },
          "metadata": {},
          "execution_count": 77
        }
      ]
    },
    {
      "cell_type": "code",
      "metadata": {
        "colab": {
          "base_uri": "https://localhost:8080/"
        },
        "id": "CXfb2B2g6V4-",
        "outputId": "2b606c35-462e-492b-dae5-8de1ed9d19de"
      },
      "source": [
        "#Рассчитаем среднюю степень удовлетворенности для оставшихся сотрудников\n",
        "print(np.mean(df_stayed.satisfaction_level))"
      ],
      "execution_count": null,
      "outputs": [
        {
          "output_type": "stream",
          "name": "stdout",
          "text": [
            "0.666809590479516\n"
          ]
        }
      ]
    },
    {
      "cell_type": "code",
      "metadata": {
        "colab": {
          "base_uri": "https://localhost:8080/"
        },
        "id": "JmOgDhvh6eF2",
        "outputId": "2b1a5624-3bcb-4a7e-fd15-5c7349480bf1"
      },
      "source": [
        "#Рассчитаем среднее количество проектов для оставшихся сотрудников\n",
        "print(np.mean(df_stayed.number_project))"
      ],
      "execution_count": null,
      "outputs": [
        {
          "output_type": "stream",
          "name": "stdout",
          "text": [
            "3.786664333216661\n"
          ]
        }
      ]
    },
    {
      "cell_type": "markdown",
      "metadata": {
        "id": "lhItV1yf65J8"
      },
      "source": [
        "**9 Задание**"
      ]
    },
    {
      "cell_type": "code",
      "metadata": {
        "id": "FjR1FXFZ68JG"
      },
      "source": [
        "# разделяем выборку на тренировочную и тестовую\n",
        "from sklearn.model_selection import train_test_split\n",
        "X_train, X_test, y_train, y_test = train_test_split(df_correlation, df.left, test_size=0.25)"
      ],
      "execution_count": null,
      "outputs": []
    },
    {
      "cell_type": "code",
      "metadata": {
        "id": "3Jk3eanq7YS-"
      },
      "source": [
        "# импортируем LDA-функционал\n",
        "from sklearn.discriminant_analysis import LinearDiscriminantAnalysis\n",
        "lda = LinearDiscriminantAnalysis()"
      ],
      "execution_count": null,
      "outputs": []
    },
    {
      "cell_type": "code",
      "metadata": {
        "colab": {
          "base_uri": "https://localhost:8080/"
        },
        "id": "vkW9E3137bmP",
        "outputId": "4a90184d-5c48-4a6f-8c6b-8a91bc95b4f1"
      },
      "source": [
        "# обучаем данные\n",
        "lda.fit(X_train, y_train)"
      ],
      "execution_count": null,
      "outputs": [
        {
          "output_type": "execute_result",
          "data": {
            "text/plain": [
              "LinearDiscriminantAnalysis(n_components=None, priors=None, shrinkage=None,\n",
              "                           solver='svd', store_covariance=False, tol=0.0001)"
            ]
          },
          "metadata": {},
          "execution_count": 83
        }
      ]
    },
    {
      "cell_type": "code",
      "metadata": {
        "colab": {
          "base_uri": "https://localhost:8080/"
        },
        "id": "o6BPTVeX7gbx",
        "outputId": "0ae8783f-6632-41cf-d880-5823402a6b2f"
      },
      "source": [
        "# делаем прогноз на тестовой выборке\n",
        "lda.predict(X_test)"
      ],
      "execution_count": null,
      "outputs": [
        {
          "output_type": "execute_result",
          "data": {
            "text/plain": [
              "array([0, 0, 0, ..., 0, 1, 0])"
            ]
          },
          "metadata": {},
          "execution_count": 84
        }
      ]
    },
    {
      "cell_type": "code",
      "metadata": {
        "colab": {
          "base_uri": "https://localhost:8080/",
          "height": 419
        },
        "id": "bCEtfSvc7jUO",
        "outputId": "917d517b-923e-4069-cf9a-a7346f0cf215"
      },
      "source": [
        "result = pd.DataFrame([y_test, lda.predict(X_test)]).T\n",
        "result"
      ],
      "execution_count": null,
      "outputs": [
        {
          "output_type": "execute_result",
          "data": {
            "text/html": [
              "<div>\n",
              "<style scoped>\n",
              "    .dataframe tbody tr th:only-of-type {\n",
              "        vertical-align: middle;\n",
              "    }\n",
              "\n",
              "    .dataframe tbody tr th {\n",
              "        vertical-align: top;\n",
              "    }\n",
              "\n",
              "    .dataframe thead th {\n",
              "        text-align: right;\n",
              "    }\n",
              "</style>\n",
              "<table border=\"1\" class=\"dataframe\">\n",
              "  <thead>\n",
              "    <tr style=\"text-align: right;\">\n",
              "      <th></th>\n",
              "      <th>left</th>\n",
              "      <th>Unnamed 0</th>\n",
              "    </tr>\n",
              "  </thead>\n",
              "  <tbody>\n",
              "    <tr>\n",
              "      <th>10066</th>\n",
              "      <td>0.0</td>\n",
              "      <td>NaN</td>\n",
              "    </tr>\n",
              "    <tr>\n",
              "      <th>49</th>\n",
              "      <td>1.0</td>\n",
              "      <td>0.0</td>\n",
              "    </tr>\n",
              "    <tr>\n",
              "      <th>2967</th>\n",
              "      <td>0.0</td>\n",
              "      <td>0.0</td>\n",
              "    </tr>\n",
              "    <tr>\n",
              "      <th>674</th>\n",
              "      <td>1.0</td>\n",
              "      <td>1.0</td>\n",
              "    </tr>\n",
              "    <tr>\n",
              "      <th>53</th>\n",
              "      <td>1.0</td>\n",
              "      <td>0.0</td>\n",
              "    </tr>\n",
              "    <tr>\n",
              "      <th>...</th>\n",
              "      <td>...</td>\n",
              "      <td>...</td>\n",
              "    </tr>\n",
              "    <tr>\n",
              "      <th>10713</th>\n",
              "      <td>0.0</td>\n",
              "      <td>NaN</td>\n",
              "    </tr>\n",
              "    <tr>\n",
              "      <th>8856</th>\n",
              "      <td>0.0</td>\n",
              "      <td>NaN</td>\n",
              "    </tr>\n",
              "    <tr>\n",
              "      <th>13724</th>\n",
              "      <td>0.0</td>\n",
              "      <td>NaN</td>\n",
              "    </tr>\n",
              "    <tr>\n",
              "      <th>6714</th>\n",
              "      <td>0.0</td>\n",
              "      <td>NaN</td>\n",
              "    </tr>\n",
              "    <tr>\n",
              "      <th>12866</th>\n",
              "      <td>0.0</td>\n",
              "      <td>NaN</td>\n",
              "    </tr>\n",
              "  </tbody>\n",
              "</table>\n",
              "<p>3750 rows × 2 columns</p>\n",
              "</div>"
            ],
            "text/plain": [
              "       left  Unnamed 0\n",
              "10066   0.0        NaN\n",
              "49      1.0        0.0\n",
              "2967    0.0        0.0\n",
              "674     1.0        1.0\n",
              "53      1.0        0.0\n",
              "...     ...        ...\n",
              "10713   0.0        NaN\n",
              "8856    0.0        NaN\n",
              "13724   0.0        NaN\n",
              "6714    0.0        NaN\n",
              "12866   0.0        NaN\n",
              "\n",
              "[3750 rows x 2 columns]"
            ]
          },
          "metadata": {},
          "execution_count": 85
        }
      ]
    },
    {
      "cell_type": "code",
      "metadata": {
        "id": "_xcv2Zze7tkz",
        "colab": {
          "base_uri": "https://localhost:8080/"
        },
        "outputId": "62525ac3-acac-4cad-bc25-2b141280db2d"
      },
      "source": [
        "#Посмотрим на точность модели\n",
        "\n",
        "from sklearn.metrics import accuracy_score\n",
        "\n",
        "accuracy_score(y_test, lda.predict(X_test))"
      ],
      "execution_count": null,
      "outputs": [
        {
          "output_type": "execute_result",
          "data": {
            "text/plain": [
              "0.7597333333333334"
            ]
          },
          "metadata": {},
          "execution_count": 87
        }
      ]
    }
  ]
}